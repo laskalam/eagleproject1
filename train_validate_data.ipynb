{
 "cells": [
  {
   "cell_type": "markdown",
   "metadata": {},
   "source": [
    "## split data into train $\\&$ validation sets  "
   ]
  },
  {
   "cell_type": "code",
   "execution_count": 17,
   "metadata": {},
   "outputs": [],
   "source": [
    "# import Python Modules\n",
    "import numpy as np\n",
    "import pandas as pd\n",
    "import warnings\n",
    "warnings.filterwarnings('ignore')"
   ]
  },
  {
   "cell_type": "code",
   "execution_count": 11,
   "metadata": {},
   "outputs": [],
   "source": [
    "def train_validate_split(df, train_percent=.6, seed=None):\n",
    "    \"\"\"\n",
    "    This function randomly divides data into 2 separate sets\n",
    "    (i.e. train & validation)\n",
    "    \"\"\"\n",
    "    np.random.seed(seed)\n",
    "    perm = np.random.permutation(df.index)\n",
    "    m = len(df.index)\n",
    "    train_end = int(train_percent * m)\n",
    "    train = df.ix[perm[:train_end]]\n",
    "    validate = df.ix[perm[train_end:]]\n",
    "    \n",
    "    return train, validate"
   ]
  },
  {
   "cell_type": "code",
   "execution_count": null,
   "metadata": {},
   "outputs": [],
   "source": []
  },
  {
   "cell_type": "markdown",
   "metadata": {},
   "source": [
    "### Example"
   ]
  },
  {
   "cell_type": "code",
   "execution_count": 16,
   "metadata": {},
   "outputs": [
    {
     "name": "stdout",
     "output_type": "stream",
     "text": [
      "          A         B         C         D         E\n",
      "7  0.394843  0.257975  0.582241  0.161629  0.598134\n",
      "1  0.850328  0.775245  0.036664  0.116694  0.751281\n",
      "8  0.825824  0.156392  0.734301  0.408643  0.778688\n",
      "5  0.067325  0.771445  0.480984  0.329206  0.510641\n",
      "0  0.657951  0.193850  0.272316  0.718606  0.783004\n",
      "2  0.239218  0.254806  0.857626  0.949779  0.561687\n",
      "          A         B         C         D         E\n",
      "6  0.263629  0.310512  0.626853  0.557450  0.318580\n",
      "9  0.803971  0.786071  0.592287  0.664489  0.646567\n",
      "4  0.461039  0.497940  0.679411  0.650786  0.268795\n",
      "3  0.178781  0.770252  0.492381  0.631253  0.839498\n"
     ]
    }
   ],
   "source": [
    "df = pd.DataFrame(np.random.rand(10, 5), columns=list('ABCDE'))\n",
    "train, validate = train_validate_split(df, seed=20)\n",
    "\n",
    "print train\n",
    "print validate"
   ]
  }
 ],
 "metadata": {
  "kernelspec": {
   "display_name": "Python 2",
   "language": "python",
   "name": "python2"
  },
  "language_info": {
   "codemirror_mode": {
    "name": "ipython",
    "version": 2
   },
   "file_extension": ".py",
   "mimetype": "text/x-python",
   "name": "python",
   "nbconvert_exporter": "python",
   "pygments_lexer": "ipython2",
   "version": "2.7.15rc1"
  }
 },
 "nbformat": 4,
 "nbformat_minor": 2
}
